{
 "cells": [
  {
   "cell_type": "markdown",
   "metadata": {},
   "source": [
    "# Lecture 5  Classification Model I"
   ]
  },
  {
   "cell_type": "code",
   "execution_count": 1,
   "metadata": {},
   "outputs": [],
   "source": [
    "# import necessary libraries and specify that graphs should be plotted inline\n",
    "import numpy as np\n",
    "import pandas as pd\n",
    "import sklearn\n",
    "import matplotlib.pyplot as plt\n",
    "%matplotlib inline \n",
    "import warnings\n",
    "warnings.filterwarnings('ignore')"
   ]
  },
  {
   "cell_type": "markdown",
   "metadata": {},
   "source": [
    "## 1. Logistic Regression\n",
    "\n",
    "Logistic regression is realized through \n",
    "\n",
    "**<center>sklearn.linear_model.LogisticRegression</center>**\n",
    "\n",
    "- By default, **l2 regularization is applied**. Use penalty = 'none' if you do not want to include regularization.\n",
    "- You can still use .coef_ and .intercept_ to get coefficient estimates.\n",
    "- By default, .score reports the accuracy\n",
    "- A new attribute is **.predict_proba**. It gives the predicted probability of y=1 (instead of the class)."
   ]
  },
  {
   "cell_type": "markdown",
   "metadata": {},
   "source": [
    "### Setting and Data\n",
    "We will use a standard dataset that predicts breast cancer for today's practice. Similar to the iris dataset, the breast_cancer dataset comes with Scikit-Learn package. This is a binary classification dataset (i.e., Y=1 if malignant, Y=0 if benign). We can use the same syntax to learn about the breast_cancer dataset (e.g., variables, observations, etc.) \n",
    "\n",
    "It's description can also be found at: <center>https://scikit-learn.org/stable/modules/generated/sklearn.datasets.load_breast_cancer.html#sklearn.datasets.load_breast_cancer</center>\n",
    "\n",
    "\n",
    "\n",
    "**Practice:** \n",
    "- Explore the cancer dataset, how many observations & variables are there?\n",
    "- Data Splitting - 30% to test and 70% to train.\n",
    "- Predict y with logistic regression and l2 regularization. Report the coefficients (including intercept).\n",
    "- Report the accuracy of training and test set.\n",
    "    - Hint: you can use .score(x, y) method to get accuracy. As accuracy is default measure for binary outcomes.\n",
    "- Suppose another classifier: it classifies all records to class zero. What would be the accuracy? "
   ]
  },
  {
   "cell_type": "code",
   "execution_count": 2,
   "metadata": {},
   "outputs": [
    {
     "name": "stdout",
     "output_type": "stream",
     "text": [
      "dict_keys(['data', 'target', 'frame', 'target_names', 'DESCR', 'feature_names', 'filename'])\n",
      "(569, 30)\n"
     ]
    }
   ],
   "source": [
    "# Exploring dataset\n",
    "\n",
    "from sklearn.datasets import load_breast_cancer\n",
    "cancer = load_breast_cancer()\n",
    "\n",
    "print(cancer.keys()) # Check elements in cancer dataset: data is X, target is y.\n",
    "print(cancer.data.shape)\n",
    "# print(cancer.DESCR)"
   ]
  },
  {
   "cell_type": "code",
   "execution_count": 3,
   "metadata": {},
   "outputs": [
    {
     "data": {
      "text/plain": [
       "{'data': array([[1.799e+01, 1.038e+01, 1.228e+02, ..., 2.654e-01, 4.601e-01,\n",
       "         1.189e-01],\n",
       "        [2.057e+01, 1.777e+01, 1.329e+02, ..., 1.860e-01, 2.750e-01,\n",
       "         8.902e-02],\n",
       "        [1.969e+01, 2.125e+01, 1.300e+02, ..., 2.430e-01, 3.613e-01,\n",
       "         8.758e-02],\n",
       "        ...,\n",
       "        [1.660e+01, 2.808e+01, 1.083e+02, ..., 1.418e-01, 2.218e-01,\n",
       "         7.820e-02],\n",
       "        [2.060e+01, 2.933e+01, 1.401e+02, ..., 2.650e-01, 4.087e-01,\n",
       "         1.240e-01],\n",
       "        [7.760e+00, 2.454e+01, 4.792e+01, ..., 0.000e+00, 2.871e-01,\n",
       "         7.039e-02]]),\n",
       " 'target': array([0, 0, 0, 0, 0, 0, 0, 0, 0, 0, 0, 0, 0, 0, 0, 0, 0, 0, 0, 1, 1, 1,\n",
       "        0, 0, 0, 0, 0, 0, 0, 0, 0, 0, 0, 0, 0, 0, 0, 1, 0, 0, 0, 0, 0, 0,\n",
       "        0, 0, 1, 0, 1, 1, 1, 1, 1, 0, 0, 1, 0, 0, 1, 1, 1, 1, 0, 1, 0, 0,\n",
       "        1, 1, 1, 1, 0, 1, 0, 0, 1, 0, 1, 0, 0, 1, 1, 1, 0, 0, 1, 0, 0, 0,\n",
       "        1, 1, 1, 0, 1, 1, 0, 0, 1, 1, 1, 0, 0, 1, 1, 1, 1, 0, 1, 1, 0, 1,\n",
       "        1, 1, 1, 1, 1, 1, 1, 0, 0, 0, 1, 0, 0, 1, 1, 1, 0, 0, 1, 0, 1, 0,\n",
       "        0, 1, 0, 0, 1, 1, 0, 1, 1, 0, 1, 1, 1, 1, 0, 1, 1, 1, 1, 1, 1, 1,\n",
       "        1, 1, 0, 1, 1, 1, 1, 0, 0, 1, 0, 1, 1, 0, 0, 1, 1, 0, 0, 1, 1, 1,\n",
       "        1, 0, 1, 1, 0, 0, 0, 1, 0, 1, 0, 1, 1, 1, 0, 1, 1, 0, 0, 1, 0, 0,\n",
       "        0, 0, 1, 0, 0, 0, 1, 0, 1, 0, 1, 1, 0, 1, 0, 0, 0, 0, 1, 1, 0, 0,\n",
       "        1, 1, 1, 0, 1, 1, 1, 1, 1, 0, 0, 1, 1, 0, 1, 1, 0, 0, 1, 0, 1, 1,\n",
       "        1, 1, 0, 1, 1, 1, 1, 1, 0, 1, 0, 0, 0, 0, 0, 0, 0, 0, 0, 0, 0, 0,\n",
       "        0, 0, 1, 1, 1, 1, 1, 1, 0, 1, 0, 1, 1, 0, 1, 1, 0, 1, 0, 0, 1, 1,\n",
       "        1, 1, 1, 1, 1, 1, 1, 1, 1, 1, 1, 0, 1, 1, 0, 1, 0, 1, 1, 1, 1, 1,\n",
       "        1, 1, 1, 1, 1, 1, 1, 1, 1, 0, 1, 1, 1, 0, 1, 0, 1, 1, 1, 1, 0, 0,\n",
       "        0, 1, 1, 1, 1, 0, 1, 0, 1, 0, 1, 1, 1, 0, 1, 1, 1, 1, 1, 1, 1, 0,\n",
       "        0, 0, 1, 1, 1, 1, 1, 1, 1, 1, 1, 1, 1, 0, 0, 1, 0, 0, 0, 1, 0, 0,\n",
       "        1, 1, 1, 1, 1, 0, 1, 1, 1, 1, 1, 0, 1, 1, 1, 0, 1, 1, 0, 0, 1, 1,\n",
       "        1, 1, 1, 1, 0, 1, 1, 1, 1, 1, 1, 1, 0, 1, 1, 1, 1, 1, 0, 1, 1, 0,\n",
       "        1, 1, 1, 1, 1, 1, 1, 1, 1, 1, 1, 1, 0, 1, 0, 0, 1, 0, 1, 1, 1, 1,\n",
       "        1, 0, 1, 1, 0, 1, 0, 1, 1, 0, 1, 0, 1, 1, 1, 1, 1, 1, 1, 1, 0, 0,\n",
       "        1, 1, 1, 1, 1, 1, 0, 1, 1, 1, 1, 1, 1, 1, 1, 1, 1, 0, 1, 1, 1, 1,\n",
       "        1, 1, 1, 0, 1, 0, 1, 1, 0, 1, 1, 1, 1, 1, 0, 0, 1, 0, 1, 0, 1, 1,\n",
       "        1, 1, 1, 0, 1, 1, 0, 1, 0, 1, 0, 0, 1, 1, 1, 0, 1, 1, 1, 1, 1, 1,\n",
       "        1, 1, 1, 1, 1, 0, 1, 0, 0, 1, 1, 1, 1, 1, 1, 1, 1, 1, 1, 1, 1, 1,\n",
       "        1, 1, 1, 1, 1, 1, 1, 1, 1, 1, 1, 1, 0, 0, 0, 0, 0, 0, 1]),\n",
       " 'frame': None,\n",
       " 'target_names': array(['malignant', 'benign'], dtype='<U9'),\n",
       " 'DESCR': '.. _breast_cancer_dataset:\\n\\nBreast cancer wisconsin (diagnostic) dataset\\n--------------------------------------------\\n\\n**Data Set Characteristics:**\\n\\n    :Number of Instances: 569\\n\\n    :Number of Attributes: 30 numeric, predictive attributes and the class\\n\\n    :Attribute Information:\\n        - radius (mean of distances from center to points on the perimeter)\\n        - texture (standard deviation of gray-scale values)\\n        - perimeter\\n        - area\\n        - smoothness (local variation in radius lengths)\\n        - compactness (perimeter^2 / area - 1.0)\\n        - concavity (severity of concave portions of the contour)\\n        - concave points (number of concave portions of the contour)\\n        - symmetry\\n        - fractal dimension (\"coastline approximation\" - 1)\\n\\n        The mean, standard error, and \"worst\" or largest (mean of the three\\n        worst/largest values) of these features were computed for each image,\\n        resulting in 30 features.  For instance, field 0 is Mean Radius, field\\n        10 is Radius SE, field 20 is Worst Radius.\\n\\n        - class:\\n                - WDBC-Malignant\\n                - WDBC-Benign\\n\\n    :Summary Statistics:\\n\\n    ===================================== ====== ======\\n                                           Min    Max\\n    ===================================== ====== ======\\n    radius (mean):                        6.981  28.11\\n    texture (mean):                       9.71   39.28\\n    perimeter (mean):                     43.79  188.5\\n    area (mean):                          143.5  2501.0\\n    smoothness (mean):                    0.053  0.163\\n    compactness (mean):                   0.019  0.345\\n    concavity (mean):                     0.0    0.427\\n    concave points (mean):                0.0    0.201\\n    symmetry (mean):                      0.106  0.304\\n    fractal dimension (mean):             0.05   0.097\\n    radius (standard error):              0.112  2.873\\n    texture (standard error):             0.36   4.885\\n    perimeter (standard error):           0.757  21.98\\n    area (standard error):                6.802  542.2\\n    smoothness (standard error):          0.002  0.031\\n    compactness (standard error):         0.002  0.135\\n    concavity (standard error):           0.0    0.396\\n    concave points (standard error):      0.0    0.053\\n    symmetry (standard error):            0.008  0.079\\n    fractal dimension (standard error):   0.001  0.03\\n    radius (worst):                       7.93   36.04\\n    texture (worst):                      12.02  49.54\\n    perimeter (worst):                    50.41  251.2\\n    area (worst):                         185.2  4254.0\\n    smoothness (worst):                   0.071  0.223\\n    compactness (worst):                  0.027  1.058\\n    concavity (worst):                    0.0    1.252\\n    concave points (worst):               0.0    0.291\\n    symmetry (worst):                     0.156  0.664\\n    fractal dimension (worst):            0.055  0.208\\n    ===================================== ====== ======\\n\\n    :Missing Attribute Values: None\\n\\n    :Class Distribution: 212 - Malignant, 357 - Benign\\n\\n    :Creator:  Dr. William H. Wolberg, W. Nick Street, Olvi L. Mangasarian\\n\\n    :Donor: Nick Street\\n\\n    :Date: November, 1995\\n\\nThis is a copy of UCI ML Breast Cancer Wisconsin (Diagnostic) datasets.\\nhttps://goo.gl/U2Uwz2\\n\\nFeatures are computed from a digitized image of a fine needle\\naspirate (FNA) of a breast mass.  They describe\\ncharacteristics of the cell nuclei present in the image.\\n\\nSeparating plane described above was obtained using\\nMultisurface Method-Tree (MSM-T) [K. P. Bennett, \"Decision Tree\\nConstruction Via Linear Programming.\" Proceedings of the 4th\\nMidwest Artificial Intelligence and Cognitive Science Society,\\npp. 97-101, 1992], a classification method which uses linear\\nprogramming to construct a decision tree.  Relevant features\\nwere selected using an exhaustive search in the space of 1-4\\nfeatures and 1-3 separating planes.\\n\\nThe actual linear program used to obtain the separating plane\\nin the 3-dimensional space is that described in:\\n[K. P. Bennett and O. L. Mangasarian: \"Robust Linear\\nProgramming Discrimination of Two Linearly Inseparable Sets\",\\nOptimization Methods and Software 1, 1992, 23-34].\\n\\nThis database is also available through the UW CS ftp server:\\n\\nftp ftp.cs.wisc.edu\\ncd math-prog/cpo-dataset/machine-learn/WDBC/\\n\\n.. topic:: References\\n\\n   - W.N. Street, W.H. Wolberg and O.L. Mangasarian. Nuclear feature extraction \\n     for breast tumor diagnosis. IS&T/SPIE 1993 International Symposium on \\n     Electronic Imaging: Science and Technology, volume 1905, pages 861-870,\\n     San Jose, CA, 1993.\\n   - O.L. Mangasarian, W.N. Street and W.H. Wolberg. Breast cancer diagnosis and \\n     prognosis via linear programming. Operations Research, 43(4), pages 570-577, \\n     July-August 1995.\\n   - W.H. Wolberg, W.N. Street, and O.L. Mangasarian. Machine learning techniques\\n     to diagnose breast cancer from fine-needle aspirates. Cancer Letters 77 (1994) \\n     163-171.',\n",
       " 'feature_names': array(['mean radius', 'mean texture', 'mean perimeter', 'mean area',\n",
       "        'mean smoothness', 'mean compactness', 'mean concavity',\n",
       "        'mean concave points', 'mean symmetry', 'mean fractal dimension',\n",
       "        'radius error', 'texture error', 'perimeter error', 'area error',\n",
       "        'smoothness error', 'compactness error', 'concavity error',\n",
       "        'concave points error', 'symmetry error',\n",
       "        'fractal dimension error', 'worst radius', 'worst texture',\n",
       "        'worst perimeter', 'worst area', 'worst smoothness',\n",
       "        'worst compactness', 'worst concavity', 'worst concave points',\n",
       "        'worst symmetry', 'worst fractal dimension'], dtype='<U23'),\n",
       " 'filename': '/Users/joyalchully/opt/anaconda3/lib/python3.8/site-packages/sklearn/datasets/data/breast_cancer.csv'}"
      ]
     },
     "execution_count": 3,
     "metadata": {},
     "output_type": "execute_result"
    }
   ],
   "source": [
    "cancer"
   ]
  },
  {
   "cell_type": "code",
   "execution_count": 4,
   "metadata": {},
   "outputs": [
    {
     "name": "stdout",
     "output_type": "stream",
     "text": [
      "0.6256281407035176 0.6274165202108963\n"
     ]
    }
   ],
   "source": [
    "# Data Splitting, check sample\n",
    "from sklearn.model_selection import train_test_split\n",
    "X = cancer.data\n",
    "y = cancer.target\n",
    "\n",
    "X_train, X_test, y_train, y_test = train_test_split(X, y, test_size = 0.3, random_state=42)\n",
    "print(np.mean(y_train), np.mean(y))###Check for imbalance...Proportion of 1s in both datasets"
   ]
  },
  {
   "cell_type": "code",
   "execution_count": 5,
   "metadata": {},
   "outputs": [
    {
     "name": "stdout",
     "output_type": "stream",
     "text": [
      "Accuracy is: 0.9707602339181286\n"
     ]
    },
    {
     "data": {
      "text/plain": [
       "array([0.97076023])"
      ]
     },
     "execution_count": 5,
     "metadata": {},
     "output_type": "execute_result"
    }
   ],
   "source": [
    "from sklearn.linear_model import LogisticRegression\n",
    "# Run the Logistic Regression Model: \n",
    "## (a) Define function, train the model. Report coefficient.\n",
    "logreg = LogisticRegression()##if penalization is not needed, set penalty = 'none'\n",
    "logreg.fit(X_train,y_train)\n",
    "\n",
    "logreg.coef_, logreg.intercept_\n",
    "## (b) Accuracy\n",
    "print(\"Accuracy is:\", logreg.score(X_test, y_test))\n",
    "\n",
    "# Get it manually\n",
    "y_test_pred = logreg.predict(X_test)\n",
    "accuracy_manual = np.sum(y_test_pred == y_test)/y_test.shape\n",
    "accuracy_manual\n"
   ]
  },
  {
   "cell_type": "code",
   "execution_count": null,
   "metadata": {},
   "outputs": [],
   "source": [
    "# Suppose another classifier: it classifies all records to class zero. What would be the accuracy?\n",
    "\n"
   ]
  },
  {
   "cell_type": "markdown",
   "metadata": {},
   "source": [
    "## 2. Model Evaluation\n",
    "We have several ways to evaluate a classification model. \n",
    "\n",
    "### 2.1 Confusion Matrix\n",
    "It is often good start from **Confusion Matrix**, which provides the source (e.g., TP, TN, FP, FN) to calculate other measures. Checking the patterns of confusion matrix can also help understand which type of error is more likely to occur (FP or FN) and the potential reasons (classifier's issue or data issue).\n",
    "\n",
    "To generate confusion matrix, we use syntax:\n",
    "**<center>sklearn.metrics.confusion_matrix(Actual_y, Predicted_y)</center>**\n",
    "\n",
    "- The rows represents actual class, and columns represent predicted class. \n",
    "- For the upper-left corner, predicted = actual = 0\n",
    "\n",
    "**Practice:**\n",
    "- Create a confusion matrix for the logistic regression model, report the TP, FP ,TN, FN.\n",
    "\n"
   ]
  },
  {
   "cell_type": "code",
   "execution_count": 6,
   "metadata": {},
   "outputs": [
    {
     "data": {
      "text/plain": [
       "array([[ 59,   4],\n",
       "       [  1, 107]])"
      ]
     },
     "execution_count": 6,
     "metadata": {},
     "output_type": "execute_result"
    }
   ],
   "source": [
    "from sklearn.metrics import confusion_matrix\n",
    "logreg_matrix = confusion_matrix(y_test, y_test_pred)\n",
    "logreg_matrix"
   ]
  },
  {
   "cell_type": "code",
   "execution_count": 7,
   "metadata": {},
   "outputs": [
    {
     "name": "stdout",
     "output_type": "stream",
     "text": [
      "TP is: 107\n",
      "TN is: 59\n",
      "FP is: 4\n",
      "FN is: 1\n"
     ]
    }
   ],
   "source": [
    "print(\"TP is:\", logreg_matrix[1,1])\n",
    "print(\"TN is:\", logreg_matrix[0,0])\n",
    "print(\"FP is:\", logreg_matrix[0,1])\n",
    "print(\"FN is:\", logreg_matrix[1,0])"
   ]
  },
  {
   "cell_type": "markdown",
   "metadata": {},
   "source": [
    "### Additional Performance Measures\n",
    "We can obtain different performance measures, **Accuracy, Precision, Recall, F1 score**, using Scikit-Learn. The syntax is very similar to confusion matrix. Specifically, we can simply replace \"confusion_matrix\" by [accuracy_score, precision_score, recall_score, and f1_score]. Thus:\n",
    "\n",
    "<center>sklearn.metrics.accuracy_score(Actual_y, Predicted_y)</center>\n",
    "<center>sklearn.metrics.precision_score(Actual_y, Predicted_y)</center>\n",
    "<center>sklearn.metrics.recall_score(Actual_y, Predicted_y)</center>\n",
    "<center>sklearn.metrics.f1_score(Actual_y, Predicted_y)</center>\n",
    "\n",
    "**Practice:**\n",
    "\n",
    "- Given the logistic regression trained in the previous section, calculate and print the precision, recall, accuracy, and f1_score"
   ]
  },
  {
   "cell_type": "code",
   "execution_count": 8,
   "metadata": {},
   "outputs": [
    {
     "name": "stdout",
     "output_type": "stream",
     "text": [
      "Precision score: 0.963963963963964\n",
      "Recall score: 0.9907407407407407\n",
      "Accuracy score: 0.9707602339181286\n",
      "F1 score: 0.9771689497716894\n"
     ]
    }
   ],
   "source": [
    "from sklearn.metrics import precision_score, recall_score, accuracy_score, f1_score\n",
    "\n",
    "\n",
    "print('Precision score:', precision_score(y_test, y_test_pred))\n",
    "print('Recall score:', recall_score(y_test, y_test_pred))\n",
    "print('Accuracy score:', accuracy_score(y_test, y_test_pred))\n",
    "print('F1 score:', f1_score(y_test, y_test_pred))"
   ]
  },
  {
   "cell_type": "code",
   "execution_count": null,
   "metadata": {},
   "outputs": [],
   "source": []
  },
  {
   "cell_type": "code",
   "execution_count": null,
   "metadata": {},
   "outputs": [],
   "source": []
  },
  {
   "cell_type": "markdown",
   "metadata": {},
   "source": [
    "### Visualization\n",
    "We consider two methods for visualization: Precision-Recall Curve, and ROC Curve. Recall that to draw the figure, we need to calculate the probability of Y=1 for each record. Thus, we need to first obtain the predicted probability of Y=1 using the .predict_proba method:\n",
    "\n",
    "**<center>MODEL_NAME.predict_proba(INPUT_DATA)[:,1]</center>**\n",
    "- \"[:,1]\" takes the second column of the output (the first column is P(Y=0))\n",
    "- The list of probabilities can be used to draw figures.\n",
    "\n",
    "#### For Precision-Recall Curve: \n",
    " - Use **sklearn.metrics.precision_recall_curve(Actual_Y, Probability)** \n",
    " - Output: a list of necessary measures (following this order): [precision, recall, threshold]\n",
    " - Plot the figure (e.g., plt.plot()).\n",
    " \n",
    "#### For ROC Curve: \n",
    " - Use **sklearn.metrics.precision_recall_curve(Actual_Y, Probability)** \n",
    " - Output: a list of necessary measures (following this order): [fpr (1-specificity), tpr (recall), threshold]\n",
    " - Plot the figure (e.g., plt.plot()).\n",
    " - We can also get AUC score using     **sklearn.metrics.roc_auc_score(Actual_Y, Probability)**\n",
    "\n",
    "**Practice:**\n",
    "\n",
    "1. Plot the Precision-Recall Curve\n",
    "2. Plot the ROC Curve\n",
    "3. Obtain the AUC score"
   ]
  },
  {
   "cell_type": "code",
   "execution_count": 19,
   "metadata": {},
   "outputs": [],
   "source": []
  },
  {
   "cell_type": "code",
   "execution_count": 23,
   "metadata": {},
   "outputs": [
    {
     "data": {
      "text/plain": [
       "Text(0, 0.5, 'precision')"
      ]
     },
     "execution_count": 23,
     "metadata": {},
     "output_type": "execute_result"
    },
    {
     "data": {
      "image/png": "[encoded data removed]",
      "text/plain": [
       "<Figure size 432x288 with 1 Axes>"
      ]
     },
     "metadata": {
      "needs_background": "light"
     },
     "output_type": "display_data"
    }
   ],
   "source": [
    "# Practice 1: Here we plot the Precision-Recall Curve\n",
    "\n",
    "from sklearn.metrics import precision_recall_curve\n",
    "\n",
    "# S1. Get probability\n",
    "logreg.predict_proba(X_test) # 1-pi_hat, pi_hat\n",
    "pi_hat = logreg.predict_proba(X_test)[:,1]\n",
    "# S2. Collect Necessary Measures\n",
    "precision, recall, threshold = precision_recall_curve(y_test,pi_hat)\n",
    "\n",
    "# S3. Plot Figure\n",
    "plt.plot(recall, precision)\n",
    "plt.xlabel('recall')\n",
    "plt.ylabel('precision')"
   ]
  },
  {
   "cell_type": "code",
   "execution_count": null,
   "metadata": {},
   "outputs": [],
   "source": [
    "from sklearn.metrics import roc_auc_score\n",
    "\n",
    "# we have obtained the predicted probability in the previous step: y_pred_proba\n",
    "\n",
    "\n",
    "\n",
    "print(\"AUC for logistic regression:\",   )"
   ]
  },
  {
   "cell_type": "code",
   "execution_count": 24,
   "metadata": {},
   "outputs": [
    {
     "data": {
      "text/plain": [
       "Text(0, 0.5, 'TPR')"
      ]
     },
     "execution_count": 24,
     "metadata": {},
     "output_type": "execute_result"
    },
    {
     "data": {
      "image/png": "[encoded data removed]",
      "text/plain": [
       "<Figure size 432x288 with 1 Axes>"
      ]
     },
     "metadata": {
      "needs_background": "light"
     },
     "output_type": "display_data"
    }
   ],
   "source": [
    "# Practice 2: Similar to ROC-Recall Curve\n",
    "\n",
    "from sklearn.metrics import roc_curve\n",
    "\n",
    "# Predicted Probability: pi_hat\n",
    "# Get Measures\n",
    "fpr, tpr, threshold_roc = roc_curve(y_test,pi_hat)\n",
    "# Generate Figure\n",
    "plt.plot(fpr,tpr)\n",
    "plt.xlabel('FPR')\n",
    "plt.ylabel('TPR')\n"
   ]
  },
  {
   "cell_type": "code",
   "execution_count": 29,
   "metadata": {},
   "outputs": [
    {
     "name": "stdout",
     "output_type": "stream",
     "text": [
      "AUC for log reg: 0.9966196355085244\n"
     ]
    }
   ],
   "source": [
    "from sklearn.metrics import roc_curve, auc, roc_auc_score\n",
    "print('AUC for log reg:', roc_auc_score(y_test,pi_hat))"
   ]
  },
  {
   "cell_type": "markdown",
   "metadata": {},
   "source": [
    "## 3. K-Nearest Neighbor\n",
    "\n"
   ]
  },
  {
   "cell_type": "markdown",
   "metadata": {},
   "source": [
    "KNN is realized through:\n",
    "**<center>sklearn.neighbors.KNeighborsClassifier(n_neighbors)</center>**\n",
    "- n_neighbors: how many neighbors (k)\n",
    "- p: the distance measure. p=2 for euclidean distance (default), p=1 for manhattan distance.\n",
    "\n",
    "After training the model with .fit method, you can use .predict and .score for prediction and performance report. You can also use .kneighbors to find the neighbors and corresponding distances for a (set of) new point(s). Note that this feature is not available if you use GridSearchCV.\n",
    "\n",
    "*Extension:To use KNN for regression purpose, check: sklearn.neighbors.KNeighborsRegressor.*"
   ]
  },
  {
   "cell_type": "markdown",
   "metadata": {},
   "source": [
    "### IRIS EXAMPLE: 3 classes\n",
    "IRIS dataset consists of 3 different types of irises (Setosa, Versicolour, and Virginica). There are 150 observations and 4 features: Sepal Length, Sepal Width, Petal Length and Petal Width. The features are stored in a 150x4 2D numpy array. The target is a 1D numpy array indicating the type of each iris.\n",
    "\n",
    "**Practice:**\n",
    "- Load the data and get a general idea of the dataset\n",
    "- We will use the first two features to predict the iris type. Define X and Y (complete dataset), and create a scatter plot to show the relationship between the features and iris types.\n",
    "- Split the dataset, use knn where k=3 for classification, report accuracy for test set.\n",
    "- Use cross-validation to find the best k among all odd numbers between 3 and 25 (inclusive). Report the mean validation score of the chosen model through CV process. Also report the test score of the chosen model."
   ]
  },
  {
   "cell_type": "code",
   "execution_count": 9,
   "metadata": {},
   "outputs": [
    {
     "name": "stdout",
     "output_type": "stream",
     "text": [
      "dict_keys(['data', 'target', 'frame', 'target_names', 'DESCR', 'feature_names', 'filename'])\n",
      "(150, 4)\n",
      "['setosa' 'versicolor' 'virginica']\n"
     ]
    }
   ],
   "source": [
    "from sklearn.datasets import load_iris\n",
    "iris = load_iris()\n",
    "print(iris.keys())\n",
    "print(iris.data.shape)\n",
    "print(iris.target_names) # three classes"
   ]
  },
  {
   "cell_type": "code",
   "execution_count": 10,
   "metadata": {},
   "outputs": [],
   "source": [
    "## Data Visualization:\n",
    "X = iris.data[:, :2] # we only take the first two features.\n",
    "Y = iris.target"
   ]
  },
  {
   "cell_type": "code",
   "execution_count": 11,
   "metadata": {},
   "outputs": [
    {
     "data": {
      "text/plain": [
       "<matplotlib.colorbar.Colorbar at 0x7fb8186111f0>"
      ]
     },
     "execution_count": 11,
     "metadata": {},
     "output_type": "execute_result"
    },
    {
     "data": {
      "image/png": "[encoded data removed]",
      "text/plain": [
       "<Figure size 432x288 with 2 Axes>"
      ]
     },
     "metadata": {
      "needs_background": "light"
     },
     "output_type": "display_data"
    }
   ],
   "source": [
    "## Visualization of the data set\n",
    "\n",
    "X = iris.data[:, :2] # we only take the first two features.\n",
    "Y = iris.target\n",
    "\n",
    "plt.scatter(X[:, 0], X[:, 1], c=Y)\n",
    "plt.xlabel('Sepal length')\n",
    "plt.ylabel('Sepal width')\n",
    "plt.colorbar(ticks = [0,1,2])"
   ]
  },
  {
   "cell_type": "code",
   "execution_count": 12,
   "metadata": {},
   "outputs": [],
   "source": [
    "# Data Splitting\n",
    "from sklearn.model_selection import train_test_split\n",
    "X_train, X_test, y_train, y_test = train_test_split(X, Y, test_size = 0.25, random_state=42)"
   ]
  },
  {
   "cell_type": "code",
   "execution_count": 14,
   "metadata": {},
   "outputs": [
    {
     "data": {
      "text/plain": [
       "0.7631578947368421"
      ]
     },
     "execution_count": 14,
     "metadata": {},
     "output_type": "execute_result"
    }
   ],
   "source": [
    "# Train a k-NN model with k = 3\n",
    "from sklearn.neighbors import KNeighborsClassifier\n",
    "knn3 = KNeighborsClassifier(n_neighbors=3)\n",
    "knn3.fit(X_train,y_train)\n",
    "knn3.score(X_test,y_test)"
   ]
  },
  {
   "cell_type": "code",
   "execution_count": 16,
   "metadata": {},
   "outputs": [
    {
     "data": {
      "text/plain": [
       "array([1, 0, 2, 2, 1, 0, 1, 2, 1, 2, 2, 0, 0, 0, 0, 2, 2, 1, 1, 1, 0, 1,\n",
       "       0, 1, 2, 2, 1, 2, 0, 0, 0, 0, 1, 0, 0, 1, 2, 0])"
      ]
     },
     "execution_count": 16,
     "metadata": {},
     "output_type": "execute_result"
    }
   ],
   "source": [
    "knn3.predict(X_test)"
   ]
  },
  {
   "cell_type": "code",
   "execution_count": 15,
   "metadata": {},
   "outputs": [
    {
     "data": {
      "text/plain": [
       "array([0])"
      ]
     },
     "execution_count": 15,
     "metadata": {},
     "output_type": "execute_result"
    }
   ],
   "source": [
    "X_new=[[5,5]]\n",
    "knn3.predict(X_new)"
   ]
  },
  {
   "cell_type": "code",
   "execution_count": 17,
   "metadata": {},
   "outputs": [
    {
     "data": {
      "text/plain": [
       "(array([[0.92195445, 0.94339811, 1.17046999]]), array([[ 1, 33,  5]]))"
      ]
     },
     "execution_count": 17,
     "metadata": {},
     "output_type": "execute_result"
    }
   ],
   "source": [
    "knn3.kneighbors(X_new)\n",
    "\n",
    "#First array is the distance\n",
    "#Second array is the index of the nearest neighbors"
   ]
  },
  {
   "cell_type": "code",
   "execution_count": 21,
   "metadata": {},
   "outputs": [
    {
     "name": "stdout",
     "output_type": "stream",
     "text": [
      "Best k is: {'n_neighbors': 25}\n",
      "Mean Validation score is: 0.7770750988142293\n"
     ]
    }
   ],
   "source": [
    "from sklearn.model_selection import GridSearchCV\n",
    "from sklearn.neighbors import KNeighborsClassifier\n",
    "\n",
    "# define function\n",
    "knn = KNeighborsClassifier()\n",
    "\n",
    "# define a list of parameters\n",
    "param_knn = {'n_neighbors': [num for num in range(3,26,2)]}  # exactly the same as the input variable name. \n",
    "\n",
    "#apply grid search\n",
    "grid_knn = GridSearchCV(knn, param_knn, cv=5)\n",
    "grid_knn.fit(X_train,y_train)\n",
    "# the best hyperparameter chosen:\n",
    "print(\"Best k is:\",grid_knn.best_params_)\n",
    "\n",
    "# When k=25 (best case), the validation score of through CV is:\n",
    "print(\"Mean Validation score is:\",grid_knn.best_score_)\n"
   ]
  },
  {
   "cell_type": "code",
   "execution_count": 23,
   "metadata": {},
   "outputs": [
    {
     "data": {
      "text/plain": [
       "(array([[0.92195445, 0.94339811, 1.17046999, 1.17046999, 1.20415946,\n",
       "         1.20415946, 1.28062485, 1.30384048, 1.33416641, 1.36014705,\n",
       "         1.4       , 1.40356688, 1.5       , 1.5       , 1.50332964,\n",
       "         1.50332964, 1.6       , 1.60312195, 1.61245155, 1.61245155,\n",
       "         1.64924225, 1.64924225, 1.7       , 1.70293864, 1.8       ]]),\n",
       " array([[  1,  33,   5,  40,  20,  76, 109,  90,  86,   6,   0,  94,  50,\n",
       "          19,  15,  63,  49,  27,  18,  23,  67, 106,  43,  25,  44]]))"
      ]
     },
     "execution_count": 23,
     "metadata": {},
     "output_type": "execute_result"
    }
   ],
   "source": [
    "grid_knn.best_estimator_.kneighbors(X_new)"
   ]
  },
  {
   "cell_type": "code",
   "execution_count": null,
   "metadata": {},
   "outputs": [],
   "source": []
  }
 ],
 "metadata": {
  "kernelspec": {
   "display_name": "Python 3",
   "language": "python",
   "name": "python3"
  },
  "language_info": {
   "codemirror_mode": {
    "name": "ipython",
    "version": 3
   },
   "file_extension": ".py",
   "mimetype": "text/x-python",
   "name": "python",
   "nbconvert_exporter": "python",
   "pygments_lexer": "ipython3",
   "version": "3.8.8"
  }
 },
 "nbformat": 4,
 "nbformat_minor": 4
}
